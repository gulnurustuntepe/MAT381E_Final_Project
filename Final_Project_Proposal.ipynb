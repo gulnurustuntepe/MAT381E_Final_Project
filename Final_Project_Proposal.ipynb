{
 "cells": [
  {
   "cell_type": "markdown",
   "id": "ed6ec0cf",
   "metadata": {},
   "source": [
    "# The Traces of Classical Music in Other Genres\n",
    "\n",
    "## Team Members\n",
    "\n",
    "1. Team Member 1: Gülnur Üstüntepe 090180348\n",
    "2. Team Member 2: Elsa Schönwiese 912110043\n",
    "3. Team Member 3: Irmak Köseoğlu 090190305\n",
    "\n",
    "\n",
    "## Dataset\n",
    "\n",
    "For this project, we will work on two datasets:\n",
    "1. [GTZAN Dataset](https://www.kaggle.com/datasets/carlthome/gtzan-genre-collection) *G. Tzanetakis and P. Cook, 2002. Retrieved from https://www.kaggle.com/datasets/carlthome/gtzan-genre-collection* The dataset consists of 1000 audio tracks each 30 seconds long. It contains 10 genres, each represented by 100 tracks. The tracks are all 22050 Hz monophonic 16-bit audio files in .au format.\n",
    "2. [ISMIR04 Genre Identification Task Dataset](https://www.upf.edu/web/mtg/ismir2004-genre) *Cano P, Gómez E, Gouyon F, Herrera P, Koppenberger M, Ong B, Serra X, Streich S, Wack N. ISMIR 2004 audio description contest. Barcelona: Universitat Pompeu Fabra, Music technology Group; 2006 Retrieved from https://www.upf.edu/web/mtg/ismir2004-genre* \n",
    "The dataset contains the audio tracks from following 8 genres: classical, electronic, jazz- & blues, metal-, punk, rock-, pop, world.\n",
    "\n",
    "## Description of the Problem\n",
    "\n",
    "The goal of the project is to find the music genre which has most similarities with and therefore most influence from the classical music. We will choose different music genres that we can find in the before mentioned datasets and visualize them with music21 and librosa in order to compare factors like length, beats and other factors. We will look for similarities and discrepancies in each dataset in order to reach our goal. \n",
    "\n",
    "## Project Planning\n",
    "\n",
    "\n",
    "### Project Pieces\n",
    "\n",
    "First step is try to filter the information that is relevant to our project by understanding and cleaning the data. In the second step we will search for documentations about how to compare genres. Third step is to visualize the data. We will decide which columns we need to visualize and compare. At this point we need to look at librosa and music21 documentations. Lastly, we will look for similarities or differences in order to determine the genre which is most similar to or influenced by classical music.\n",
    "\n",
    "### Hardware and Software\n",
    "\n",
    "We are going to use three laptops with the following properties:\n",
    "+ Processor Intel(R) Core(TM) i7-7500U  RAM: 12 GB \n",
    "+ Processor: 1,8 GHz Dual-Core Intel Core i5  RAM: 4 GB\n",
    "+ Processor: 1,8 GHz Dual-Core Intel Core i5  RAM: 8 GB\n",
    "\n",
    "\n",
    "We will import Pandas for data processing, Matplotlib and Seaborn for visualization, librosa and music21 for music analysis. \n",
    "\n",
    "\n",
    "### Calendar\n",
    "\n",
    "+ April 11-April 24: Data Acquisiton and Cleaning\n",
    "+ April 25-May 1: General Visualization\n",
    "+ May 2-May 8: Piece Visualization and Comparison\n",
    "+ May 9-May 15: Error Detecting and General Analysis and Conclusion Writing\n",
    "+ May 16-May 22: Preparing Presentation \n",
    "+ May 23-May 30: Last Changes and Adaptions"
   ]
  },
  {
   "cell_type": "code",
   "execution_count": null,
   "id": "47d5f792",
   "metadata": {},
   "outputs": [],
   "source": []
  }
 ],
 "metadata": {
  "kernelspec": {
   "display_name": "Python 3 (ipykernel)",
   "language": "python",
   "name": "python3"
  },
  "language_info": {
   "codemirror_mode": {
    "name": "ipython",
    "version": 3
   },
   "file_extension": ".py",
   "mimetype": "text/x-python",
   "name": "python",
   "nbconvert_exporter": "python",
   "pygments_lexer": "ipython3",
   "version": "3.9.7"
  }
 },
 "nbformat": 4,
 "nbformat_minor": 5
}
